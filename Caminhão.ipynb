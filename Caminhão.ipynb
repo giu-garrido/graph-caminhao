{
  "nbformat": 4,
  "nbformat_minor": 0,
  "metadata": {
    "colab": {
      "provenance": [],
      "authorship_tag": "ABX9TyOSsFOdkXxviGlpZx1GB8RF",
      "include_colab_link": true
    },
    "kernelspec": {
      "name": "python3",
      "display_name": "Python 3"
    },
    "language_info": {
      "name": "python"
    },
    "widgets": {
      "application/vnd.jupyter.widget-state+json": {
        "b83ab8ef282a44d08ee3fc489c7bc637": {
          "model_module": "@jupyter-widgets/controls",
          "model_name": "RadioButtonsModel",
          "model_module_version": "1.5.0",
          "state": {
            "_dom_classes": [],
            "_model_module": "@jupyter-widgets/controls",
            "_model_module_version": "1.5.0",
            "_model_name": "RadioButtonsModel",
            "_options_labels": [
              "1 - 3",
              "1 - 2"
            ],
            "_view_count": null,
            "_view_module": "@jupyter-widgets/controls",
            "_view_module_version": "1.5.0",
            "_view_name": "RadioButtonsView",
            "description": "Caminhos:",
            "description_tooltip": null,
            "disabled": false,
            "index": 1,
            "layout": "IPY_MODEL_a02c69f06d52452985780a6965711242",
            "style": "IPY_MODEL_b0707cca5cb448b4b5ee1fe443960c0a"
          }
        },
        "a02c69f06d52452985780a6965711242": {
          "model_module": "@jupyter-widgets/base",
          "model_name": "LayoutModel",
          "model_module_version": "1.2.0",
          "state": {
            "_model_module": "@jupyter-widgets/base",
            "_model_module_version": "1.2.0",
            "_model_name": "LayoutModel",
            "_view_count": null,
            "_view_module": "@jupyter-widgets/base",
            "_view_module_version": "1.2.0",
            "_view_name": "LayoutView",
            "align_content": null,
            "align_items": null,
            "align_self": null,
            "border": null,
            "bottom": null,
            "display": null,
            "flex": null,
            "flex_flow": null,
            "grid_area": null,
            "grid_auto_columns": null,
            "grid_auto_flow": null,
            "grid_auto_rows": null,
            "grid_column": null,
            "grid_gap": null,
            "grid_row": null,
            "grid_template_areas": null,
            "grid_template_columns": null,
            "grid_template_rows": null,
            "height": null,
            "justify_content": null,
            "justify_items": null,
            "left": null,
            "margin": null,
            "max_height": null,
            "max_width": null,
            "min_height": null,
            "min_width": null,
            "object_fit": null,
            "object_position": null,
            "order": null,
            "overflow": null,
            "overflow_x": null,
            "overflow_y": null,
            "padding": null,
            "right": null,
            "top": null,
            "visibility": null,
            "width": null
          }
        },
        "b0707cca5cb448b4b5ee1fe443960c0a": {
          "model_module": "@jupyter-widgets/controls",
          "model_name": "DescriptionStyleModel",
          "model_module_version": "1.5.0",
          "state": {
            "_model_module": "@jupyter-widgets/controls",
            "_model_module_version": "1.5.0",
            "_model_name": "DescriptionStyleModel",
            "_view_count": null,
            "_view_module": "@jupyter-widgets/base",
            "_view_module_version": "1.2.0",
            "_view_name": "StyleView",
            "description_width": ""
          }
        }
      }
    }
  },
  "cells": [
    {
      "cell_type": "markdown",
      "metadata": {
        "id": "view-in-github",
        "colab_type": "text"
      },
      "source": [
        "<a href=\"https://colab.research.google.com/github/giu-garrido/graph-caminhao/blob/main/Caminh%C3%A3o.ipynb\" target=\"_parent\"><img src=\"https://colab.research.google.com/assets/colab-badge.svg\" alt=\"Open In Colab\"/></a>"
      ]
    },
    {
      "cell_type": "markdown",
      "source": [
        "Anotações:\n",
        "- ipywidgets\n",
        "--------------------------------\n"
      ],
      "metadata": {
        "id": "Vc720_QEB_JG"
      }
    },
    {
      "cell_type": "markdown",
      "source": [
        "\n",
        "\n",
        "*   Giulia Monteiro Garrido (RA: 24010281)\n",
        "*   \n",
        "*\n",
        "-----------------------------------\n",
        "\n",
        "\n"
      ],
      "metadata": {
        "id": "avDLyGARiWEJ"
      }
    },
    {
      "cell_type": "markdown",
      "source": [
        "**Avaliação:**\n",
        "\n",
        "* Carregar arquivo corretamente (1pt)\n",
        "* Gerar grafo inicial e plotar (1pt)\n",
        "* Evidenciar pontes de interesse (que serão usadas pelos caminhoneiros) (2pts)\n",
        "* Responder o problema (2pts)\n",
        "* Justificativas (4pts)\n",
        "\n",
        "\n",
        "\n"
      ],
      "metadata": {
        "id": "IcEVNYjGitYk"
      }
    },
    {
      "cell_type": "code",
      "source": [
        "import pandas as pd\n",
        "import numpy as np\n",
        "import networkx as nx\n",
        "import matplotlib.pyplot as plt\n",
        "import ipywidgets as widgets\n",
        "from IPython.display import display\n",
        "from functools import partial"
      ],
      "metadata": {
        "collapsed": true,
        "id": "K-Ln4L74plUi"
      },
      "execution_count": 15,
      "outputs": []
    },
    {
      "cell_type": "code",
      "source": [
        "import urllib.request\n",
        "url = 'https://raw.githubusercontent.com/giu-garrido/graph-caminhao/refs/heads/main/teste.txt'\n",
        "response = urllib.request.urlopen(url)\n",
        "content = response.read().decode('utf-8')\n",
        "print(content)"
      ],
      "metadata": {
        "colab": {
          "base_uri": "https://localhost:8080/"
        },
        "id": "TLANn913t-1s",
        "outputId": "0137fdfa-da6a-4113-e448-1f4ede2548e3"
      },
      "execution_count": 55,
      "outputs": [
        {
          "output_type": "stream",
          "name": "stdout",
          "text": [
            "4 5 4\r\n",
            "1 2 9\r\n",
            "1 3 0\r\n",
            "2 3 8\r\n",
            "2 4 7\r\n",
            "3 4 4\r\n",
            "1 4\r\n",
            "2 1\r\n",
            "3 1\r\n",
            "4 3\r\n",
            "4 5 2\r\n",
            "1 2 30\r\n",
            "2 3 20\r\n",
            "3 4 10\r\n",
            "4 1 40\r\n",
            "2 4 50\r\n",
            "1 3\r\n",
            "1 2\r\n",
            "\n"
          ]
        }
      ]
    },
    {
      "cell_type": "code",
      "source": [
        "data = content.split()\n",
        "print(data)"
      ],
      "metadata": {
        "colab": {
          "base_uri": "https://localhost:8080/"
        },
        "id": "PO0iSDpPq6nT",
        "outputId": "9e7f82b8-4bd9-4617-e215-f28ec7a18e8e"
      },
      "execution_count": 56,
      "outputs": [
        {
          "output_type": "stream",
          "name": "stdout",
          "text": [
            "['4', '5', '4', '1', '2', '9', '1', '3', '0', '2', '3', '8', '2', '4', '7', '3', '4', '4', '1', '4', '2', '1', '3', '1', '4', '3', '4', '5', '2', '1', '2', '30', '2', '3', '20', '3', '4', '10', '4', '1', '40', '2', '4', '50', '1', '3', '1', '2']\n"
          ]
        }
      ]
    },
    {
      "cell_type": "code",
      "source": [
        "def leitura(data, index):\n",
        "\n",
        "  while index < len(data):\n",
        "    N, M, S = int(data[index]), int(data[index+1]), int(data[index+2]) # Salva em N = número de nodes, M = número de arestas e S = número de sedes\n",
        "    index += 3 # Atualiza o index para depois dessas informações\n",
        "\n",
        "    bridges = []\n",
        "    for _ in range(M): # Percorre o número de pontes\n",
        "      A, B, P = int(data[index]), int(data[index+1]), int(data[index+2]) # Salva em A = início, B = destino e P = weight (peso) da aresta\n",
        "      index += 3 # Vai pra próxima aresta\n",
        "      bridges.append((A, B, P))\n",
        "\n",
        "    hq = []\n",
        "    for _ in range(S): # Percorre o número de sedes\n",
        "      A, B = int(data[index]), int(data[index+1]) # Salva em A = início, B = destino do caso teste\n",
        "      index += 2 # Vai pra próxima sede\n",
        "      hq.append((A, B))\n",
        "\n",
        "    return N, M, S, bridges, hq, index"
      ],
      "metadata": {
        "id": "3uerbDy9D_RD"
      },
      "execution_count": 57,
      "outputs": []
    },
    {
      "cell_type": "code",
      "source": [
        "def criarGrafo(N, bridges):\n",
        "  G = nx.Graph() # Cria o grafo\n",
        "\n",
        "  for i in range(0, (N)): # Adiciona os nodes\n",
        "    G.add_node(i+1)\n",
        "\n",
        "  G.add_weighted_edges_from(bridges) # Adiciona as arestas com peso da lista pontes\n",
        "\n",
        "  pos = nx.spring_layout(G, seed = 1) # Salva as posições do grafo no fromato spring, com uma seed para replicação\n",
        "\n",
        "  labels = {(A, B): P for A, B, P in bridges} # Põe no formato com peso\n",
        "\n",
        "  return G, labels, pos\n"
      ],
      "metadata": {
        "id": "gh5CCC3HM_Bp"
      },
      "execution_count": 58,
      "outputs": []
    },
    {
      "cell_type": "code",
      "source": [
        "def encontrarAGM(bridges):\n",
        "  bridges.sort(key=lambda x: x[2], reverse=True) # Organiza a lista para maior peso -> menor peso\n",
        "\n",
        "  T = nx.maximum_spanning_tree(G, weight='weight', algorithm='prim', ignore_nan=False) # Pega a árvore geradora máxima de G e salva em T\n",
        "  aux = list(T.edges(data=True))\n",
        "  l_p = dict()\n",
        "  for a,b,p in aux: # Transforma para o formato necessário, networkx pf coopera\n",
        "    w=p['weight']\n",
        "    k=(a,b)\n",
        "    l_p[k]=w\n",
        "\n",
        "  #nx.draw(G, pos, with_labels=True, node_color=\"#f9b9ff\", edge_color=\"gray\", node_size=1000, font_size=15)\n",
        "  #nx.draw(T, pos, with_labels=True, node_color=\"#f9b9ff\", edge_color=\"#75067F\", node_size=1000, font_size=15)\n",
        "  #nx.draw_networkx_edge_labels(G, pos, edge_labels=labels, font_color= \"gray\", font_size=10)\n",
        "  #nx.draw_networkx_edge_labels(G, pos, edge_labels=l_p, font_color= \"#75067F\", font_size=10);\n",
        "\n",
        "  #plt.show()\n",
        "\n",
        "  return l_p, T"
      ],
      "metadata": {
        "id": "FOORRrNicbV2"
      },
      "execution_count": 59,
      "outputs": []
    },
    {
      "cell_type": "code",
      "source": [
        "def caminho(T, hq):\n",
        "\n",
        "  for a,b in hq:\n",
        "    path = nx.shortest_path(T, a, b)\n",
        "\n",
        "    aux = np.inf\n",
        "    for i in range(len(path)-1):\n",
        "      weights = T.get_edge_data(path[i], path[i+1])\n",
        "      if weights.get('weight') < aux:\n",
        "        aux = weights.get('weight')\n",
        "\n",
        "    print(f'O maior peso que ele consegue carregar entre',{a}, 'e' ,{b}, 'é:',{aux})\n",
        "  return path, aux"
      ],
      "metadata": {
        "id": "bvRklK3QpkuR"
      },
      "execution_count": 79,
      "outputs": []
    },
    {
      "cell_type": "code",
      "source": [
        "def printarGrafo(G, T, l_p):\n",
        "\n",
        "  nx.draw(G, pos, with_labels=True, node_color=\"#f9b9ff\", edge_color=\"gray\", node_size=1000, font_size=15)\n",
        "  nx.draw(T, pos, with_labels=True, node_color=\"#f9b9ff\", edge_color=\"#75067F\", node_size=1000, font_size=15)\n",
        "  nx.draw(T, pos, with_labels=True, node_color=\"#f9b9ff\", edge_color=\"#75067F\", node_size=1000, font_size=15)\n",
        "  nx.draw_networkx_edge_labels(G, pos, edge_labels=labels, font_color= \"gray\", font_size=10)\n",
        "  nx.draw_networkx_edge_labels(G, pos, edge_labels=l_p, font_color= \"#75067F\", font_size=10);\n",
        "\n",
        "  plt.show()"
      ],
      "metadata": {
        "id": "FTwwRjR10MKA"
      },
      "execution_count": 80,
      "outputs": []
    },
    {
      "cell_type": "code",
      "source": [
        "index = 0\n",
        "while index < len(data)-1:\n",
        "  N, M, S, bridges, hq, index = leitura(data, index)\n",
        "  G, labels, pos = criarGrafo(N, bridges)\n",
        "\n",
        "  l_p, T = encontrarAGM(bridges)\n",
        "  printarGrafo(G, T, l_p)\n",
        "  path, aux = caminho(T, hq)"
      ],
      "metadata": {
        "colab": {
          "base_uri": "https://localhost:8080/",
          "height": 1000
        },
        "collapsed": true,
        "id": "hipixcR7rUfp",
        "outputId": "f3e8986e-c6e6-474e-fce9-c136aa673843"
      },
      "execution_count": 81,
      "outputs": [
        {
          "output_type": "display_data",
          "data": {
            "text/plain": [
              "<Figure size 640x480 with 1 Axes>"
            ],
            "image/png": "[encoded data removed]"
          },
          "metadata": {}
        },
        {
          "output_type": "stream",
          "name": "stdout",
          "text": [
            "O maior peso que ele consegue carregar entre {1} e {4} é: {7}\n",
            "O maior peso que ele consegue carregar entre {2} e {1} é: {9}\n",
            "O maior peso que ele consegue carregar entre {3} e {1} é: {8}\n",
            "O maior peso que ele consegue carregar entre {4} e {3} é: {7}\n"
          ]
        },
        {
          "output_type": "display_data",
          "data": {
            "text/plain": [
              "<Figure size 640x480 with 1 Axes>"
            ],
            "image/png": "[encoded data removed]"
          },
          "metadata": {}
        },
        {
          "output_type": "stream",
          "name": "stdout",
          "text": [
            "O maior peso que ele consegue carregar entre {1} e {3} é: {20}\n",
            "O maior peso que ele consegue carregar entre {1} e {2} é: {40}\n"
          ]
        }
      ]
    },
    {
      "cell_type": "code",
      "source": [
        "opcoes = []\n",
        "for i in hq:\n",
        "  opcao = str(i[0]) + ' - ' + str(i[1])\n",
        "  opcoes.append(opcao)"
      ],
      "metadata": {
        "id": "xKEAPMWzyGDc"
      },
      "execution_count": 82,
      "outputs": []
    },
    {
      "cell_type": "code",
      "source": [
        "a = widgets.RadioButtons(\n",
        "    options= opcoes,\n",
        "    description='Caminhos:',\n",
        "    disabled=False\n",
        ")"
      ],
      "metadata": {
        "id": "KeCuanHGtE4B"
      },
      "execution_count": 83,
      "outputs": []
    },
    {
      "cell_type": "code",
      "source": [
        "def qualquer_funcao(change, grafo, bridges):\n",
        "  origem, destino = map(int, change['new'].split(' - '))\n",
        "  encontrarAGM(bridges)\n",
        "  caminho(T, [(origem, destino)])\n",
        "  #encontrar menor ponte no caminho\n",
        "  #plotar\n",
        "  #ser feliz"
      ],
      "metadata": {
        "id": "NsZ-rXnqxlMY"
      },
      "execution_count": 84,
      "outputs": []
    },
    {
      "cell_type": "code",
      "source": [
        "handler_com_nome = partial(qualquer_funcao, grafo=G, bridges=bridges)\n",
        "\n",
        "a.observe(handler_com_nome, names='label')"
      ],
      "metadata": {
        "id": "-TQWc9NjzCBx"
      },
      "execution_count": 85,
      "outputs": []
    },
    {
      "cell_type": "code",
      "source": [
        "display(a)"
      ],
      "metadata": {
        "colab": {
          "base_uri": "https://localhost:8080/",
          "height": 133,
          "referenced_widgets": [
            "b83ab8ef282a44d08ee3fc489c7bc637",
            "a02c69f06d52452985780a6965711242",
            "b0707cca5cb448b4b5ee1fe443960c0a"
          ]
        },
        "id": "Cf3ASdaXpyaE",
        "outputId": "9f2c697d-63bb-4f95-d039-310120ba838c"
      },
      "execution_count": 86,
      "outputs": [
        {
          "output_type": "display_data",
          "data": {
            "text/plain": [
              "RadioButtons(description='Caminhos:', options=('1 - 3', '1 - 2'), value='1 - 3')"
            ],
            "application/vnd.jupyter.widget-view+json": {
              "version_major": 2,
              "version_minor": 0,
              "model_id": "b83ab8ef282a44d08ee3fc489c7bc637"
            }
          },
          "metadata": {}
        },
        {
          "output_type": "stream",
          "name": "stdout",
          "text": [
            "O maior peso que ele consegue carregar entre {1} e {2} é: {40}\n",
            "O maior peso que ele consegue carregar entre {1} e {3} é: {20}\n",
            "O maior peso que ele consegue carregar entre {1} e {2} é: {40}\n"
          ]
        }
      ]
    },
    {
      "cell_type": "code",
      "source": [],
      "metadata": {
        "id": "mNVgf25rxYuo"
      },
      "execution_count": 86,
      "outputs": []
    }
  ]
}