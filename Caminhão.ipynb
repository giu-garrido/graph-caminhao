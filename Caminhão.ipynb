{
  "nbformat": 4,
  "nbformat_minor": 0,
  "metadata": {
    "colab": {
      "provenance": [],
      "include_colab_link": true
    },
    "kernelspec": {
      "name": "python3",
      "display_name": "Python 3"
    },
    "language_info": {
      "name": "python"
    },
    "widgets": {
      "application/vnd.jupyter.widget-state+json": {
        "968a58c2e7bf48b493d700fe423ad98e": {
          "model_module": "@jupyter-widgets/controls",
          "model_name": "RadioButtonsModel",
          "model_module_version": "1.5.0",
          "state": {
            "_dom_classes": [],
            "_model_module": "@jupyter-widgets/controls",
            "_model_module_version": "1.5.0",
            "_model_name": "RadioButtonsModel",
            "_options_labels": [
              "1 - 4",
              "2 - 1",
              "3 - 1",
              "4 - 3"
            ],
            "_view_count": null,
            "_view_module": "@jupyter-widgets/controls",
            "_view_module_version": "1.5.0",
            "_view_name": "RadioButtonsView",
            "description": "Caminhos:",
            "description_tooltip": null,
            "disabled": false,
            "index": 1,
            "layout": "IPY_MODEL_b74a0687f93a4f5a91f7ed2505903b8c",
            "style": "IPY_MODEL_30b29b0c2d9f4be4b9f71f56c6f165cc"
          }
        },
        "b74a0687f93a4f5a91f7ed2505903b8c": {
          "model_module": "@jupyter-widgets/base",
          "model_name": "LayoutModel",
          "model_module_version": "1.2.0",
          "state": {
            "_model_module": "@jupyter-widgets/base",
            "_model_module_version": "1.2.0",
            "_model_name": "LayoutModel",
            "_view_count": null,
            "_view_module": "@jupyter-widgets/base",
            "_view_module_version": "1.2.0",
            "_view_name": "LayoutView",
            "align_content": null,
            "align_items": null,
            "align_self": null,
            "border": null,
            "bottom": null,
            "display": null,
            "flex": null,
            "flex_flow": null,
            "grid_area": null,
            "grid_auto_columns": null,
            "grid_auto_flow": null,
            "grid_auto_rows": null,
            "grid_column": null,
            "grid_gap": null,
            "grid_row": null,
            "grid_template_areas": null,
            "grid_template_columns": null,
            "grid_template_rows": null,
            "height": null,
            "justify_content": null,
            "justify_items": null,
            "left": null,
            "margin": null,
            "max_height": null,
            "max_width": null,
            "min_height": null,
            "min_width": null,
            "object_fit": null,
            "object_position": null,
            "order": null,
            "overflow": null,
            "overflow_x": null,
            "overflow_y": null,
            "padding": null,
            "right": null,
            "top": null,
            "visibility": null,
            "width": null
          }
        },
        "30b29b0c2d9f4be4b9f71f56c6f165cc": {
          "model_module": "@jupyter-widgets/controls",
          "model_name": "DescriptionStyleModel",
          "model_module_version": "1.5.0",
          "state": {
            "_model_module": "@jupyter-widgets/controls",
            "_model_module_version": "1.5.0",
            "_model_name": "DescriptionStyleModel",
            "_view_count": null,
            "_view_module": "@jupyter-widgets/base",
            "_view_module_version": "1.2.0",
            "_view_name": "StyleView",
            "description_width": ""
          }
        },
        "2f24d8f5c3b04f7299bcb5e3b15eea01": {
          "model_module": "@jupyter-widgets/output",
          "model_name": "OutputModel",
          "model_module_version": "1.0.0",
          "state": {
            "_dom_classes": [],
            "_model_module": "@jupyter-widgets/output",
            "_model_module_version": "1.0.0",
            "_model_name": "OutputModel",
            "_view_count": null,
            "_view_module": "@jupyter-widgets/output",
            "_view_module_version": "1.0.0",
            "_view_name": "OutputView",
            "layout": "IPY_MODEL_f7089cfdeb684c05a2f9591fb3f60b6d",
            "msg_id": "",
            "outputs": [
              {
                "output_type": "stream",
                "name": "stdout",
                "text": [
                  "O maior peso que ele consegue carregar entre {2} e {1} é: {9}\n"
                ]
              },
              {
                "output_type": "display_data",
                "data": {
                  "text/plain": "<Figure size 640x480 with 1 Axes>",
                  "image/png": "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\n"
                },
                "metadata": {}
              }
            ]
          }
        },
        "f7089cfdeb684c05a2f9591fb3f60b6d": {
          "model_module": "@jupyter-widgets/base",
          "model_name": "LayoutModel",
          "model_module_version": "1.2.0",
          "state": {
            "_model_module": "@jupyter-widgets/base",
            "_model_module_version": "1.2.0",
            "_model_name": "LayoutModel",
            "_view_count": null,
            "_view_module": "@jupyter-widgets/base",
            "_view_module_version": "1.2.0",
            "_view_name": "LayoutView",
            "align_content": null,
            "align_items": null,
            "align_self": null,
            "border": null,
            "bottom": null,
            "display": null,
            "flex": null,
            "flex_flow": null,
            "grid_area": null,
            "grid_auto_columns": null,
            "grid_auto_flow": null,
            "grid_auto_rows": null,
            "grid_column": null,
            "grid_gap": null,
            "grid_row": null,
            "grid_template_areas": null,
            "grid_template_columns": null,
            "grid_template_rows": null,
            "height": null,
            "justify_content": null,
            "justify_items": null,
            "left": null,
            "margin": null,
            "max_height": null,
            "max_width": null,
            "min_height": null,
            "min_width": null,
            "object_fit": null,
            "object_position": null,
            "order": null,
            "overflow": null,
            "overflow_x": null,
            "overflow_y": null,
            "padding": null,
            "right": null,
            "top": null,
            "visibility": null,
            "width": null
          }
        }
      }
    }
  },
  "cells": [
    {
      "cell_type": "markdown",
      "metadata": {
        "id": "view-in-github",
        "colab_type": "text"
      },
      "source": [
        "<a href=\"https://colab.research.google.com/github/giu-garrido/graph-caminhao/blob/main/Caminh%C3%A3o.ipynb\" target=\"_parent\"><img src=\"https://colab.research.google.com/assets/colab-badge.svg\" alt=\"Open In Colab\"/></a>"
      ]
    },
    {
      "cell_type": "markdown",
      "source": [
        "Anotações:\n",
        "- ipywidgets\n",
        "--------------------------------\n"
      ],
      "metadata": {
        "id": "Vc720_QEB_JG"
      }
    },
    {
      "cell_type": "markdown",
      "source": [
        "\n",
        "\n",
        "*   Giulia Monteiro Garrido (RA: 24010281)\n",
        "*   \n",
        "*\n",
        "-----------------------------------\n",
        "\n",
        "\n"
      ],
      "metadata": {
        "id": "avDLyGARiWEJ"
      }
    },
    {
      "cell_type": "markdown",
      "source": [
        "**Avaliação:**\n",
        "\n",
        "* Carregar arquivo corretamente (1pt)\n",
        "* Gerar grafo inicial e plotar (1pt)\n",
        "* Evidenciar pontes de interesse (que serão usadas pelos caminhoneiros) (2pts)\n",
        "* Responder o problema (2pts)\n",
        "* Justificativas (4pts)\n",
        "\n",
        "\n",
        "\n"
      ],
      "metadata": {
        "id": "IcEVNYjGitYk"
      }
    },
    {
      "cell_type": "code",
      "source": [
        "import pandas as pd\n",
        "import numpy as np\n",
        "import networkx as nx\n",
        "import matplotlib.pyplot as plt\n",
        "import ipywidgets as widgets\n",
        "from IPython.display import display\n",
        "from functools import partial"
      ],
      "metadata": {
        "collapsed": true,
        "id": "K-Ln4L74plUi"
      },
      "execution_count": 15,
      "outputs": []
    },
    {
      "cell_type": "code",
      "source": [
        "import urllib.request\n",
        "url = 'https://raw.githubusercontent.com/giu-garrido/graph-caminhao/refs/heads/main/teste.txt'\n",
        "response = urllib.request.urlopen(url)\n",
        "content = response.read().decode('utf-8')\n",
        "print(content)"
      ],
      "metadata": {
        "colab": {
          "base_uri": "https://localhost:8080/"
        },
        "id": "TLANn913t-1s",
        "outputId": "0c09bf50-3e91-4fbd-88d7-b7b1f78b0615"
      },
      "execution_count": 16,
      "outputs": [
        {
          "output_type": "stream",
          "name": "stdout",
          "text": [
            "4 5 4\r\n",
            "1 2 9\r\n",
            "1 3 0\r\n",
            "2 3 8\r\n",
            "2 4 7\r\n",
            "3 4 4\r\n",
            "1 4\r\n",
            "2 1\r\n",
            "3 1\r\n",
            "4 3\r\n",
            "4 5 2\r\n",
            "1 2 30\r\n",
            "2 3 20\r\n",
            "3 4 10\r\n",
            "4 1 40\r\n",
            "2 4 50\r\n",
            "1 3\r\n",
            "1 2\r\n",
            "\n"
          ]
        }
      ]
    },
    {
      "cell_type": "code",
      "source": [
        "data = content.split()\n",
        "print(data)"
      ],
      "metadata": {
        "colab": {
          "base_uri": "https://localhost:8080/"
        },
        "id": "PO0iSDpPq6nT",
        "outputId": "95cb700c-a882-4eec-a513-3e931551dff7"
      },
      "execution_count": 17,
      "outputs": [
        {
          "output_type": "stream",
          "name": "stdout",
          "text": [
            "['4', '5', '4', '1', '2', '9', '1', '3', '0', '2', '3', '8', '2', '4', '7', '3', '4', '4', '1', '4', '2', '1', '3', '1', '4', '3', '4', '5', '2', '1', '2', '30', '2', '3', '20', '3', '4', '10', '4', '1', '40', '2', '4', '50', '1', '3', '1', '2']\n"
          ]
        }
      ]
    },
    {
      "cell_type": "code",
      "source": [
        "def leitura(data, index):\n",
        "\n",
        "  N, M, S = int(data[index]), int(data[index+1]), int(data[index+2]) # Salva em N = número de nodes, M = número de arestas e S = número de sedes\n",
        "  index += 3 # Atualiza o index para depois dessas informações\n",
        "\n",
        "  bridges = []\n",
        "  for _ in range(M): # Percorre o número de pontes\n",
        "    A, B, P = int(data[index]), int(data[index+1]), int(data[index+2]) # Salva em A = início, B = destino e P = weight (peso) da aresta\n",
        "    index += 3 # Vai pra próxima aresta\n",
        "    bridges.append((A, B, P))\n",
        "\n",
        "  hq = []\n",
        "  for _ in range(S): # Percorre o número de sedes\n",
        "    A, B = int(data[index]), int(data[index+1]) # Salva em A = início, B = destino do caso teste\n",
        "    index += 2 # Vai pra próxima sede\n",
        "    hq.append((A, B))\n",
        "\n",
        "  return N, M, S, bridges, hq, index"
      ],
      "metadata": {
        "id": "3uerbDy9D_RD"
      },
      "execution_count": 18,
      "outputs": []
    },
    {
      "cell_type": "code",
      "source": [
        "def criarGrafo(N, bridges):\n",
        "  G = nx.Graph() # Cria o grafo\n",
        "\n",
        "  for i in range(0, (N)): # Adiciona os nodes\n",
        "    G.add_node(i+1)\n",
        "\n",
        "  G.add_weighted_edges_from(bridges) # Adiciona as arestas com peso da lista pontes\n",
        "\n",
        "  pos = nx.spring_layout(G, seed = 1) # Salva as posições do grafo no fromato spring, com uma seed para replicação\n",
        "\n",
        "  labels = {(A, B): P for A, B, P in bridges} # Põe no formato com peso\n",
        "\n",
        "  return G, labels, pos\n"
      ],
      "metadata": {
        "id": "gh5CCC3HM_Bp"
      },
      "execution_count": 19,
      "outputs": []
    },
    {
      "cell_type": "code",
      "source": [
        "def encontrarAGM(bridges):\n",
        "  bridges.sort(key=lambda x: x[2], reverse=True) # Organiza a lista para maior peso -> menor peso\n",
        "\n",
        "  T = nx.maximum_spanning_tree(G, weight='weight', algorithm='prim', ignore_nan=False) # Pega a árvore geradora máxima de G e salva em T\n",
        "  aux = list(T.edges(data=True))\n",
        "  l_p = dict()\n",
        "  for a,b,p in aux: # Transforma para o formato necessário, networkx pf coopera\n",
        "    w=p['weight']\n",
        "    k=(a,b)\n",
        "    l_p[k]=w\n",
        "\n",
        "  return l_p, T"
      ],
      "metadata": {
        "id": "FOORRrNicbV2"
      },
      "execution_count": 20,
      "outputs": []
    },
    {
      "cell_type": "code",
      "source": [
        "def caminho(T, hq):\n",
        "\n",
        "  for a,b in hq:\n",
        "    path = nx.shortest_path(T, a, b)\n",
        "\n",
        "    aux = np.inf\n",
        "    for i in range(len(path)-1):\n",
        "      weights = T.get_edge_data(path[i], path[i+1])\n",
        "      if weights.get('weight') < aux:\n",
        "        aux = weights.get('weight')\n",
        "\n",
        "    print(f'O maior peso que ele consegue carregar entre',{a}, 'e' ,{b}, 'é:',{aux})\n",
        "  return path, aux"
      ],
      "metadata": {
        "id": "bvRklK3QpkuR"
      },
      "execution_count": 21,
      "outputs": []
    },
    {
      "cell_type": "code",
      "source": [
        "def printarGrafo(G, T, l_p, pos, path):\n",
        "\n",
        "  nx.draw(G, pos, with_labels=True, node_color=\"#f9b9ff\", edge_color=\"gray\", node_size=1000, font_size=15)\n",
        "  nx.draw(T, pos, with_labels=True, node_color=\"#f9b9ff\", edge_color=\"#75067F\", node_size=1000, font_size=15)\n",
        "  nx.draw_networkx_edge_labels(G, pos, edge_labels=labels, font_color= \"gray\", font_size=10)\n",
        "  nx.draw_networkx_edge_labels(G, pos, edge_labels=l_p, font_color= \"#75067F\", font_size=10)\n",
        "  for i in range(len(path)-1):\n",
        "      nx.draw_networkx_edges(T, pos, [(path[i], path[i+1])], width=10, edge_color= \"#EFC3CA\", alpha = 0.5)\n",
        "\n",
        "  plt.show()"
      ],
      "metadata": {
        "id": "FTwwRjR10MKA"
      },
      "execution_count": 22,
      "outputs": []
    },
    {
      "cell_type": "code",
      "source": [
        "# index = 0\n",
        "# while index < len(data)-1:\n",
        "#   N, M, S, bridges, hq, index = leitura(data, index)\n",
        "#   G, labels, pos = criarGrafo(N, bridges)\n",
        "\n",
        "#   l_p, T = encontrarAGM(bridges)\n",
        "#   path, aux = caminho(T, hq)\n",
        "#   printarGrafo(G, T, l_p, pos, path)"
      ],
      "metadata": {
        "collapsed": true,
        "id": "hipixcR7rUfp"
      },
      "execution_count": 23,
      "outputs": []
    },
    {
      "cell_type": "code",
      "source": [
        "index = 0\n",
        "\n",
        "N, M, S, bridges, hq, index = leitura(data, index)\n",
        "G, labels, pos = criarGrafo(N, bridges)"
      ],
      "metadata": {
        "id": "e2wuWI9v1hhc"
      },
      "execution_count": 24,
      "outputs": []
    },
    {
      "cell_type": "code",
      "source": [
        "opcoes = []\n",
        "for i in hq:\n",
        "  opcao = str(i[0]) + ' - ' + str(i[1])\n",
        "  opcoes.append(opcao)"
      ],
      "metadata": {
        "id": "xKEAPMWzyGDc"
      },
      "execution_count": 25,
      "outputs": []
    },
    {
      "cell_type": "code",
      "source": [
        "a = widgets.RadioButtons(\n",
        "    options= opcoes,\n",
        "    description='Caminhos:',\n",
        "    disabled=False\n",
        ")"
      ],
      "metadata": {
        "id": "KeCuanHGtE4B"
      },
      "execution_count": 26,
      "outputs": []
    },
    {
      "cell_type": "code",
      "source": [
        "output = widgets.Output()\n",
        "display(a, output)\n",
        "\n",
        "def qualquer_funcao(change, grafo, bridges, pos):\n",
        "  with output:\n",
        "    output.clear_output(wait=True)\n",
        "\n",
        "    origem, destino = map(int, change['new'].split(' - '))\n",
        "    l_p, T = encontrarAGM(bridges)\n",
        "    path,_ = caminho(T, [(origem, destino)])\n",
        "    printarGrafo(G, T, l_p, pos, path)\n",
        "  #encontrar menor ponte no caminho\n",
        "  #plotar\n",
        "  #ser feliz\n",
        "\n",
        "handler_com_nome = partial(qualquer_funcao, grafo=G, bridges=bridges, pos = pos)\n",
        "\n",
        "a.observe(handler_com_nome, names='label')"
      ],
      "metadata": {
        "id": "NsZ-rXnqxlMY",
        "colab": {
          "base_uri": "https://localhost:8080/",
          "height": 630,
          "referenced_widgets": [
            "968a58c2e7bf48b493d700fe423ad98e",
            "b74a0687f93a4f5a91f7ed2505903b8c",
            "30b29b0c2d9f4be4b9f71f56c6f165cc",
            "2f24d8f5c3b04f7299bcb5e3b15eea01",
            "f7089cfdeb684c05a2f9591fb3f60b6d"
          ]
        },
        "collapsed": true,
        "outputId": "174d5f37-d88b-4206-8444-3f4575ac9fdf"
      },
      "execution_count": 27,
      "outputs": [
        {
          "output_type": "display_data",
          "data": {
            "text/plain": [
              "RadioButtons(description='Caminhos:', options=('1 - 4', '2 - 1', '3 - 1', '4 - 3'), value='1 - 4')"
            ],
            "application/vnd.jupyter.widget-view+json": {
              "version_major": 2,
              "version_minor": 0,
              "model_id": "968a58c2e7bf48b493d700fe423ad98e"
            }
          },
          "metadata": {}
        },
        {
          "output_type": "display_data",
          "data": {
            "text/plain": [
              "Output()"
            ],
            "application/vnd.jupyter.widget-view+json": {
              "version_major": 2,
              "version_minor": 0,
              "model_id": "2f24d8f5c3b04f7299bcb5e3b15eea01"
            }
          },
          "metadata": {}
        }
      ]
    },
    {
      "cell_type": "code",
      "source": [],
      "metadata": {
        "id": "oX8G5rv0rA6y"
      },
      "execution_count": 27,
      "outputs": []
    }
  ]
}